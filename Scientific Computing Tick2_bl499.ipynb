{
 "cells": [
  {
   "cell_type": "markdown",
   "id": "77e9e0a5",
   "metadata": {},
   "source": [
    "# Tick 2a"
   ]
  },
  {
   "cell_type": "code",
   "execution_count": 1,
   "id": "48be87cf",
   "metadata": {},
   "outputs": [
    {
     "name": "stdout",
     "output_type": "stream",
     "text": [
      "Waiting for you to log in ... done.\n"
     ]
    }
   ],
   "source": [
    "import pandas as pd\n",
    "import numpy as np\n",
    "import ucamcl\n",
    "GRADER = ucamcl.autograder('https://markmy.solutions', course='scicomp')\n",
    "GRADER2a = GRADER.subsection('tick2a')"
   ]
  },
  {
   "cell_type": "markdown",
   "id": "3910521e",
   "metadata": {},
   "source": [
    "# question1"
   ]
  },
  {
   "cell_type": "code",
   "execution_count": 78,
   "id": "6db80e4b",
   "metadata": {},
   "outputs": [
    {
     "data": {
      "text/html": [
       "<div>\n",
       "<style scoped>\n",
       "    .dataframe tbody tr th:only-of-type {\n",
       "        vertical-align: middle;\n",
       "    }\n",
       "\n",
       "    .dataframe tbody tr th {\n",
       "        vertical-align: top;\n",
       "    }\n",
       "\n",
       "    .dataframe thead th {\n",
       "        text-align: right;\n",
       "    }\n",
       "</style>\n",
       "<table border=\"1\" class=\"dataframe\">\n",
       "  <thead>\n",
       "    <tr style=\"text-align: right;\">\n",
       "      <th></th>\n",
       "      <th>Province/State</th>\n",
       "      <th>Country/Region</th>\n",
       "      <th>Lat</th>\n",
       "      <th>Long</th>\n",
       "      <th>Date</th>\n",
       "      <th>Confirmed</th>\n",
       "      <th>Deaths</th>\n",
       "      <th>Recovered</th>\n",
       "      <th>Population</th>\n",
       "      <th>iso3</th>\n",
       "    </tr>\n",
       "  </thead>\n",
       "  <tbody>\n",
       "    <tr>\n",
       "      <th>192553</th>\n",
       "      <td>Aruba</td>\n",
       "      <td>Netherlands</td>\n",
       "      <td>12.5211</td>\n",
       "      <td>-69.9683</td>\n",
       "      <td>12/9/21</td>\n",
       "      <td>16531</td>\n",
       "      <td>176</td>\n",
       "      <td>0</td>\n",
       "      <td>106766.0</td>\n",
       "      <td>ABW</td>\n",
       "    </tr>\n",
       "    <tr>\n",
       "      <th>192554</th>\n",
       "      <td>Bonaire, Sint Eustatius and Saba</td>\n",
       "      <td>Netherlands</td>\n",
       "      <td>12.1784</td>\n",
       "      <td>-68.2385</td>\n",
       "      <td>12/9/21</td>\n",
       "      <td>3109</td>\n",
       "      <td>22</td>\n",
       "      <td>0</td>\n",
       "      <td>26221.0</td>\n",
       "      <td>BES</td>\n",
       "    </tr>\n",
       "    <tr>\n",
       "      <th>192555</th>\n",
       "      <td>Curacao</td>\n",
       "      <td>Netherlands</td>\n",
       "      <td>12.1696</td>\n",
       "      <td>-68.9900</td>\n",
       "      <td>12/9/21</td>\n",
       "      <td>17540</td>\n",
       "      <td>180</td>\n",
       "      <td>0</td>\n",
       "      <td>164100.0</td>\n",
       "      <td>CUW</td>\n",
       "    </tr>\n",
       "    <tr>\n",
       "      <th>192556</th>\n",
       "      <td>Sint Maarten</td>\n",
       "      <td>Netherlands</td>\n",
       "      <td>18.0425</td>\n",
       "      <td>-63.0548</td>\n",
       "      <td>12/9/21</td>\n",
       "      <td>4624</td>\n",
       "      <td>75</td>\n",
       "      <td>0</td>\n",
       "      <td>42882.0</td>\n",
       "      <td>SXM</td>\n",
       "    </tr>\n",
       "    <tr>\n",
       "      <th>192557</th>\n",
       "      <td>NaN</td>\n",
       "      <td>Netherlands</td>\n",
       "      <td>52.1326</td>\n",
       "      <td>5.2913</td>\n",
       "      <td>12/9/21</td>\n",
       "      <td>2828655</td>\n",
       "      <td>19919</td>\n",
       "      <td>0</td>\n",
       "      <td>17134873.0</td>\n",
       "      <td>NLD</td>\n",
       "    </tr>\n",
       "  </tbody>\n",
       "</table>\n",
       "</div>"
      ],
      "text/plain": [
       "                          Province/State Country/Region      Lat     Long  \\\n",
       "192553                             Aruba    Netherlands  12.5211 -69.9683   \n",
       "192554  Bonaire, Sint Eustatius and Saba    Netherlands  12.1784 -68.2385   \n",
       "192555                           Curacao    Netherlands  12.1696 -68.9900   \n",
       "192556                      Sint Maarten    Netherlands  18.0425 -63.0548   \n",
       "192557                               NaN    Netherlands  52.1326   5.2913   \n",
       "\n",
       "           Date  Confirmed  Deaths  Recovered  Population iso3  \n",
       "192553  12/9/21      16531     176          0    106766.0  ABW  \n",
       "192554  12/9/21       3109      22          0     26221.0  BES  \n",
       "192555  12/9/21      17540     180          0    164100.0  CUW  \n",
       "192556  12/9/21       4624      75          0     42882.0  SXM  \n",
       "192557  12/9/21    2828655   19919          0  17134873.0  NLD  "
      ]
     },
     "execution_count": 78,
     "metadata": {},
     "output_type": "execute_result"
    }
   ],
   "source": [
    "#deleting rows of missing populations\n",
    "url = 'https://www.cl.cam.ac.uk/teaching/2122/DataSci/data/covid_global_20211210.csv'\n",
    "covid = pd.read_csv(url)\n",
    "covid_q1 = covid.loc[~pd.isna(covid.Population)]\n",
    "covid_q1.loc[(covid_q1['Country/Region'] == 'Netherlands') & (covid_q1['Date'] == '12/9/21')]"
   ]
  },
  {
   "cell_type": "code",
   "execution_count": 3,
   "id": "1a2ed815",
   "metadata": {},
   "outputs": [
    {
     "name": "stdout",
     "output_type": "stream",
     "text": [
      "Correct!\n"
     ]
    },
    {
     "data": {
      "text/plain": [
       "True"
      ]
     },
     "execution_count": 3,
     "metadata": {},
     "output_type": "execute_result"
    }
   ],
   "source": [
    "num_rows = 191952\n",
    "GRADER2a.submit_answer(GRADER2a.fetch_question('q1'), num_rows)"
   ]
  },
  {
   "cell_type": "markdown",
   "id": "75c2fc2b",
   "metadata": {},
   "source": [
    "# question2"
   ]
  },
  {
   "cell_type": "code",
   "execution_count": 4,
   "id": "b61fb15e",
   "metadata": {},
   "outputs": [
    {
     "data": {
      "text/html": [
       "<div>\n",
       "<style scoped>\n",
       "    .dataframe tbody tr th:only-of-type {\n",
       "        vertical-align: middle;\n",
       "    }\n",
       "\n",
       "    .dataframe tbody tr th {\n",
       "        vertical-align: top;\n",
       "    }\n",
       "\n",
       "    .dataframe thead th {\n",
       "        text-align: right;\n",
       "    }\n",
       "</style>\n",
       "<table border=\"1\" class=\"dataframe\">\n",
       "  <thead>\n",
       "    <tr style=\"text-align: right;\">\n",
       "      <th></th>\n",
       "      <th>Country/Region</th>\n",
       "      <th>Province/State</th>\n",
       "    </tr>\n",
       "  </thead>\n",
       "  <tbody>\n",
       "    <tr>\n",
       "      <th>0</th>\n",
       "      <td>Canada</td>\n",
       "      <td>Diamond Princess</td>\n",
       "    </tr>\n",
       "    <tr>\n",
       "      <th>1</th>\n",
       "      <td>Canada</td>\n",
       "      <td>Grand Princess</td>\n",
       "    </tr>\n",
       "    <tr>\n",
       "      <th>2</th>\n",
       "      <td>Canada</td>\n",
       "      <td>Repatriated Travellers</td>\n",
       "    </tr>\n",
       "    <tr>\n",
       "      <th>3</th>\n",
       "      <td>China</td>\n",
       "      <td>Unknown</td>\n",
       "    </tr>\n",
       "    <tr>\n",
       "      <th>4</th>\n",
       "      <td>Diamond Princess</td>\n",
       "      <td>NaN</td>\n",
       "    </tr>\n",
       "    <tr>\n",
       "      <th>5</th>\n",
       "      <td>MS Zaandam</td>\n",
       "      <td>NaN</td>\n",
       "    </tr>\n",
       "    <tr>\n",
       "      <th>6</th>\n",
       "      <td>Summer Olympics 2020</td>\n",
       "      <td>NaN</td>\n",
       "    </tr>\n",
       "  </tbody>\n",
       "</table>\n",
       "</div>"
      ],
      "text/plain": [
       "         Country/Region          Province/State\n",
       "0                Canada        Diamond Princess\n",
       "1                Canada          Grand Princess\n",
       "2                Canada  Repatriated Travellers\n",
       "3                 China                 Unknown\n",
       "4      Diamond Princess                     NaN\n",
       "5            MS Zaandam                     NaN\n",
       "6  Summer Olympics 2020                     NaN"
      ]
     },
     "execution_count": 4,
     "metadata": {},
     "output_type": "execute_result"
    }
   ],
   "source": [
    "#finding uniques pairs of country and states for those removed countries\n",
    "covid_q2 = covid.loc[pd.isna(covid.Population)]\n",
    "covid_q2 = covid_q2.groupby(['Country/Region', 'Province/State'], dropna = False).apply(len).reset_index(name = \"size\")\n",
    "del covid_q2['size']\n",
    "covid_q2"
   ]
  },
  {
   "cell_type": "code",
   "execution_count": 5,
   "id": "01a17ac6",
   "metadata": {},
   "outputs": [
    {
     "name": "stdout",
     "output_type": "stream",
     "text": [
      "Correct!\n"
     ]
    },
    {
     "data": {
      "text/plain": [
       "True"
      ]
     },
     "execution_count": 5,
     "metadata": {},
     "output_type": "execute_result"
    }
   ],
   "source": [
    "#test question2:\n",
    "ans = covid_q2 # your answer as a DataFrame\n",
    "GRADER2a.submit_answer(GRADER2a.fetch_question('q2'), ans)"
   ]
  },
  {
   "cell_type": "markdown",
   "id": "d806423a",
   "metadata": {},
   "source": [
    "# question 3"
   ]
  },
  {
   "cell_type": "code",
   "execution_count": 6,
   "id": "0c77bbb2",
   "metadata": {},
   "outputs": [
    {
     "data": {
      "text/plain": [
       "Province/State\n",
       "Anguilla                                        688\n",
       "Bermuda                                         688\n",
       "British Virgin Islands                          688\n",
       "Cayman Islands                                  688\n",
       "Channel Islands                                 688\n",
       "Falkland Islands (Malvinas)                     688\n",
       "Gibraltar                                       688\n",
       "Isle of Man                                     688\n",
       "Montserrat                                      688\n",
       "Saint Helena, Ascension and Tristan da Cunha    688\n",
       "Turks and Caicos Islands                        688\n",
       "NaN                                             688\n",
       "dtype: int64"
      ]
     },
     "execution_count": 6,
     "metadata": {},
     "output_type": "execute_result"
    }
   ],
   "source": [
    "#finding states of UK\n",
    "covid_q3 = covid_q1.groupby(['Country/Region', 'Province/State'], dropna = False).apply(len)\n",
    "covid_q3 = covid_q3['United Kingdom']\n",
    "covid_q3"
   ]
  },
  {
   "cell_type": "code",
   "execution_count": 7,
   "id": "0bb40123",
   "metadata": {},
   "outputs": [
    {
     "name": "stdout",
     "output_type": "stream",
     "text": [
      "Correct!\n"
     ]
    },
    {
     "data": {
      "text/plain": [
       "True"
      ]
     },
     "execution_count": 7,
     "metadata": {},
     "output_type": "execute_result"
    }
   ],
   "source": [
    "#test question 3\n",
    "ans = covid_q3\n",
    "GRADER2a.submit_answer(GRADER2a.fetch_question('q3'), ans.reset_index(name='n'))"
   ]
  },
  {
   "cell_type": "markdown",
   "id": "a889b123",
   "metadata": {},
   "source": [
    "# question4"
   ]
  },
  {
   "cell_type": "code",
   "execution_count": 8,
   "id": "fe32e331",
   "metadata": {},
   "outputs": [
    {
     "data": {
      "text/html": [
       "<div>\n",
       "<style scoped>\n",
       "    .dataframe tbody tr th:only-of-type {\n",
       "        vertical-align: middle;\n",
       "    }\n",
       "\n",
       "    .dataframe tbody tr th {\n",
       "        vertical-align: top;\n",
       "    }\n",
       "\n",
       "    .dataframe thead th {\n",
       "        text-align: right;\n",
       "    }\n",
       "</style>\n",
       "<table border=\"1\" class=\"dataframe\">\n",
       "  <thead>\n",
       "    <tr style=\"text-align: right;\">\n",
       "      <th></th>\n",
       "      <th>Country/Region</th>\n",
       "      <th>metropole</th>\n",
       "      <th>provinces</th>\n",
       "    </tr>\n",
       "  </thead>\n",
       "  <tbody>\n",
       "    <tr>\n",
       "      <th>0</th>\n",
       "      <td>Australia</td>\n",
       "      <td>0</td>\n",
       "      <td>8</td>\n",
       "    </tr>\n",
       "    <tr>\n",
       "      <th>1</th>\n",
       "      <td>Canada</td>\n",
       "      <td>1</td>\n",
       "      <td>13</td>\n",
       "    </tr>\n",
       "    <tr>\n",
       "      <th>2</th>\n",
       "      <td>China</td>\n",
       "      <td>0</td>\n",
       "      <td>33</td>\n",
       "    </tr>\n",
       "    <tr>\n",
       "      <th>3</th>\n",
       "      <td>Denmark</td>\n",
       "      <td>1</td>\n",
       "      <td>2</td>\n",
       "    </tr>\n",
       "    <tr>\n",
       "      <th>4</th>\n",
       "      <td>France</td>\n",
       "      <td>1</td>\n",
       "      <td>11</td>\n",
       "    </tr>\n",
       "    <tr>\n",
       "      <th>5</th>\n",
       "      <td>Netherlands</td>\n",
       "      <td>1</td>\n",
       "      <td>4</td>\n",
       "    </tr>\n",
       "    <tr>\n",
       "      <th>6</th>\n",
       "      <td>New Zealand</td>\n",
       "      <td>1</td>\n",
       "      <td>1</td>\n",
       "    </tr>\n",
       "    <tr>\n",
       "      <th>7</th>\n",
       "      <td>United Kingdom</td>\n",
       "      <td>1</td>\n",
       "      <td>11</td>\n",
       "    </tr>\n",
       "  </tbody>\n",
       "</table>\n",
       "</div>"
      ],
      "text/plain": [
       "   Country/Region  metropole  provinces\n",
       "0       Australia          0          8\n",
       "1          Canada          1         13\n",
       "2           China          0         33\n",
       "3         Denmark          1          2\n",
       "4          France          1         11\n",
       "5     Netherlands          1          4\n",
       "6     New Zealand          1          1\n",
       "7  United Kingdom          1         11"
      ]
     },
     "execution_count": 8,
     "metadata": {},
     "output_type": "execute_result"
    }
   ],
   "source": [
    "#finding countries without NaN provinces\n",
    "\n",
    "#find those countries with at least one non-nan province\n",
    "index_filtered_nan = covid_q1.groupby('Country/Region')['Province/State'].\\\n",
    "apply(lambda x: x.count().astype(bool)).reset_index()\n",
    "\n",
    "#find the number of unique provinces(.unique would count nan)\n",
    "provinces = covid_q1.groupby('Country/Region')['Province/State'].\\\n",
    "apply(lambda x: x.nunique(dropna = True)).reset_index()\n",
    "\n",
    "#count the metropole\n",
    "metropole = covid_q1.groupby('Country/Region')['Province/State'].\\\n",
    "apply(lambda x: (x.count().astype(bool) & x.hasnans).astype(int)).reset_index()\n",
    "\n",
    "index_filtered_nan = index_filtered_nan['Province/State']\n",
    "\n",
    "covid_q4 = provinces.loc[index_filtered_nan]\n",
    "\n",
    "covid_q4 = covid_q4.merge(metropole, on = 'Country/Region')\n",
    "covid_q4.rename(columns = {'Province/State_x' : 'provinces', 'Province/State_y':'metropole'}, inplace=True)\n",
    "covid_q4 = covid_q4[['Country/Region', 'metropole', 'provinces']]\n",
    "covid_q4"
   ]
  },
  {
   "cell_type": "code",
   "execution_count": 9,
   "id": "e0805fd0",
   "metadata": {},
   "outputs": [
    {
     "name": "stdout",
     "output_type": "stream",
     "text": [
      "Correct!\n"
     ]
    },
    {
     "data": {
      "text/plain": [
       "True"
      ]
     },
     "execution_count": 9,
     "metadata": {},
     "output_type": "execute_result"
    }
   ],
   "source": [
    "#test question 4\n",
    "ans = covid_q4 # your answer as a DataFrame\n",
    "GRADER2a.submit_answer(GRADER2a.fetch_question('q4'), ans)"
   ]
  },
  {
   "cell_type": "markdown",
   "id": "0ede856a",
   "metadata": {},
   "source": [
    "# question5"
   ]
  },
  {
   "cell_type": "code",
   "execution_count": 106,
   "id": "6c1cf723",
   "metadata": {},
   "outputs": [
    {
     "name": "stderr",
     "output_type": "stream",
     "text": [
      "/home/bl499/.local/lib/python3.9/site-packages/pandas/core/indexing.py:1732: SettingWithCopyWarning: \n",
      "A value is trying to be set on a copy of a slice from a DataFrame\n",
      "\n",
      "See the caveats in the documentation: https://pandas.pydata.org/pandas-docs/stable/user_guide/indexing.html#returning-a-view-versus-a-copy\n",
      "  self._setitem_single_block(indexer, value, name)\n"
     ]
    },
    {
     "data": {
      "text/html": [
       "<div>\n",
       "<style scoped>\n",
       "    .dataframe tbody tr th:only-of-type {\n",
       "        vertical-align: middle;\n",
       "    }\n",
       "\n",
       "    .dataframe tbody tr th {\n",
       "        vertical-align: top;\n",
       "    }\n",
       "\n",
       "    .dataframe thead th {\n",
       "        text-align: right;\n",
       "    }\n",
       "</style>\n",
       "<table border=\"1\" class=\"dataframe\">\n",
       "  <thead>\n",
       "    <tr style=\"text-align: right;\">\n",
       "      <th></th>\n",
       "      <th>Country/Region</th>\n",
       "      <th>Date</th>\n",
       "      <th>Confirmed</th>\n",
       "      <th>Deaths</th>\n",
       "      <th>Population</th>\n",
       "    </tr>\n",
       "  </thead>\n",
       "  <tbody>\n",
       "    <tr>\n",
       "      <th>0</th>\n",
       "      <td>Afghanistan</td>\n",
       "      <td>2020-01-22</td>\n",
       "      <td>0</td>\n",
       "      <td>0</td>\n",
       "      <td>38928341</td>\n",
       "    </tr>\n",
       "    <tr>\n",
       "      <th>280</th>\n",
       "      <td>Afghanistan</td>\n",
       "      <td>2020-01-23</td>\n",
       "      <td>0</td>\n",
       "      <td>0</td>\n",
       "      <td>38928341</td>\n",
       "    </tr>\n",
       "    <tr>\n",
       "      <th>560</th>\n",
       "      <td>Afghanistan</td>\n",
       "      <td>2020-01-24</td>\n",
       "      <td>0</td>\n",
       "      <td>0</td>\n",
       "      <td>38928341</td>\n",
       "    </tr>\n",
       "    <tr>\n",
       "      <th>840</th>\n",
       "      <td>Afghanistan</td>\n",
       "      <td>2020-01-25</td>\n",
       "      <td>0</td>\n",
       "      <td>0</td>\n",
       "      <td>38928341</td>\n",
       "    </tr>\n",
       "    <tr>\n",
       "      <th>1120</th>\n",
       "      <td>Afghanistan</td>\n",
       "      <td>2020-01-26</td>\n",
       "      <td>0</td>\n",
       "      <td>0</td>\n",
       "      <td>38928341</td>\n",
       "    </tr>\n",
       "    <tr>\n",
       "      <th>...</th>\n",
       "      <td>...</td>\n",
       "      <td>...</td>\n",
       "      <td>...</td>\n",
       "      <td>...</td>\n",
       "      <td>...</td>\n",
       "    </tr>\n",
       "    <tr>\n",
       "      <th>191519</th>\n",
       "      <td>Zimbabwe</td>\n",
       "      <td>2021-12-05</td>\n",
       "      <td>139046</td>\n",
       "      <td>4710</td>\n",
       "      <td>14862927</td>\n",
       "    </tr>\n",
       "    <tr>\n",
       "      <th>191799</th>\n",
       "      <td>Zimbabwe</td>\n",
       "      <td>2021-12-06</td>\n",
       "      <td>139046</td>\n",
       "      <td>4710</td>\n",
       "      <td>14862927</td>\n",
       "    </tr>\n",
       "    <tr>\n",
       "      <th>192079</th>\n",
       "      <td>Zimbabwe</td>\n",
       "      <td>2021-12-07</td>\n",
       "      <td>141601</td>\n",
       "      <td>4713</td>\n",
       "      <td>14862927</td>\n",
       "    </tr>\n",
       "    <tr>\n",
       "      <th>192359</th>\n",
       "      <td>Zimbabwe</td>\n",
       "      <td>2021-12-08</td>\n",
       "      <td>150628</td>\n",
       "      <td>4720</td>\n",
       "      <td>14862927</td>\n",
       "    </tr>\n",
       "    <tr>\n",
       "      <th>192639</th>\n",
       "      <td>Zimbabwe</td>\n",
       "      <td>2021-12-09</td>\n",
       "      <td>155817</td>\n",
       "      <td>4723</td>\n",
       "      <td>14862927</td>\n",
       "    </tr>\n",
       "  </tbody>\n",
       "</table>\n",
       "<p>134848 rows × 5 columns</p>\n",
       "</div>"
      ],
      "text/plain": [
       "       Country/Region       Date  Confirmed  Deaths  Population\n",
       "0         Afghanistan 2020-01-22          0       0    38928341\n",
       "280       Afghanistan 2020-01-23          0       0    38928341\n",
       "560       Afghanistan 2020-01-24          0       0    38928341\n",
       "840       Afghanistan 2020-01-25          0       0    38928341\n",
       "1120      Afghanistan 2020-01-26          0       0    38928341\n",
       "...               ...        ...        ...     ...         ...\n",
       "191519       Zimbabwe 2021-12-05     139046    4710    14862927\n",
       "191799       Zimbabwe 2021-12-06     139046    4710    14862927\n",
       "192079       Zimbabwe 2021-12-07     141601    4713    14862927\n",
       "192359       Zimbabwe 2021-12-08     150628    4720    14862927\n",
       "192639       Zimbabwe 2021-12-09     155817    4723    14862927\n",
       "\n",
       "[134848 rows x 5 columns]"
      ]
     },
     "execution_count": 106,
     "metadata": {},
     "output_type": "execute_result"
    }
   ],
   "source": [
    "#convert the format of dates\n",
    "url2 = 'https://www.cl.cam.ac.uk/teaching/2122/DataSci/data/covidcountries_20210831.csv'\n",
    "covidr = covid_q1.copy()\n",
    "covid_0831 = pd.read_csv(url)\n",
    "covidr['Date'] = pd.to_datetime(covidr['Date'])\n",
    "\n",
    "spec_countries = ['Australia', 'Canada', 'China', 'Denmark', 'France', 'Netherlands', 'New Zealand', 'United Kingdom']\n",
    "#new_pop = covid_0831.loc[(covid_0831['Country/Region'].isin(spec_countries))]\n",
    "new_pop = covid_0831.groupby('Country/Region')[['Population']].apply(max).reset_index()\n",
    "\n",
    "#special case one: add up all the statistics of provinces\n",
    "tmp = covidr.loc[covidr['Country/Region'].isin(['Australia', 'Canada', 'China'])]\n",
    "confirm = tmp.groupby(['Country/Region', 'Date'])['Confirmed'].apply(sum).reset_index()\n",
    "deaths = tmp.groupby(['Country/Region', 'Date'])['Deaths'].apply(sum).reset_index()\n",
    "#population = tmp.groupby(['Country/Region', 'Date'])['Population'].apply(sum).reset_index()\n",
    "\n",
    "confirm['Deaths'] = deaths['Deaths']\n",
    "#confirm['Population'] = population['Population']\n",
    "case1 = confirm.merge(new_pop, how = 'left', on = 'Country/Region')\n",
    "case1['Population'].loc[case1['Country/Region'] == 'China'] = 1411778724\n",
    "case1['Population'].loc[case1['Country/Region'] == 'Australia'] = 25459700\n",
    "\n",
    "\n",
    "#special case two: \n",
    "tmp2 = covidr.loc[covidr['Country/Region'].isin(['Denmark', 'France', 'Netherlands', 'New Zealand', 'United Kingdom'])]\n",
    "tmp2 = tmp2.loc[tmp2['Province/State'].isna()]\n",
    "case2 = tmp2[['Country/Region', 'Date', 'Confirmed', 'Deaths', 'Population']]\n",
    "\n",
    "#remove those special countries from the whole dataframe\n",
    "covidr2 = covidr.loc[~covidr['Country/Region'].isin(spec_countries)]\n",
    "#covidr2 = covidr2.groupby(['Country/Region', 'Date'])[['Confirmed', 'Deaths']].apply(sum).reset_index()\n",
    "#covidc = covidr2.merge(new_pop, how = 'left', on = 'Country/Region')\n",
    "\n",
    "frame = [covidr2[['Country/Region', 'Date', 'Confirmed', 'Deaths', 'Population']], case1, case2]\n",
    "covidc = pd.concat(frame)\n",
    "#sort the values based on countries and dates\n",
    "covidc = covidc.sort_values(['Country/Region', 'Date'])\n",
    "covidc['Population'] = covidc['Population'].astype(int)\n",
    "#covidc.loc[(covidc['Country/Region']== 'China') & (covidc['Date'] == '2020-08-16')]\n",
    "covidc"
   ]
  },
  {
   "cell_type": "code",
   "execution_count": 107,
   "id": "5db66523",
   "metadata": {},
   "outputs": [
    {
     "name": "stdout",
     "output_type": "stream",
     "text": [
      "Correct!\n"
     ]
    },
    {
     "data": {
      "text/plain": [
       "True"
      ]
     },
     "execution_count": 107,
     "metadata": {},
     "output_type": "execute_result"
    }
   ],
   "source": [
    "covidc = covidc\n",
    "\n",
    "q = GRADER2a.fetch_question('q5')\n",
    "want_rows = pd.DataFrame(q.rows).assign(Date = lambda df: pd.to_datetime(df.Date))\n",
    "submit = covidc.merge(want_rows)[q.cols].assign(Date = lambda df: df.Date.astype(str))\n",
    "GRADER2a.submit_answer(q, {'num_rows': len(covidc), 'details': submit})"
   ]
  },
  {
   "cell_type": "markdown",
   "id": "a8006c59",
   "metadata": {},
   "source": [
    "# question6"
   ]
  },
  {
   "cell_type": "code",
   "execution_count": 12,
   "id": "b6395107",
   "metadata": {},
   "outputs": [
    {
     "name": "stderr",
     "output_type": "stream",
     "text": [
      "/home/bl499/.local/lib/python3.9/site-packages/pandas/core/indexing.py:1732: SettingWithCopyWarning: \n",
      "A value is trying to be set on a copy of a slice from a DataFrame\n",
      "\n",
      "See the caveats in the documentation: https://pandas.pydata.org/pandas-docs/stable/user_guide/indexing.html#returning-a-view-versus-a-copy\n",
      "  self._setitem_single_block(indexer, value, name)\n"
     ]
    },
    {
     "data": {
      "text/html": [
       "<div>\n",
       "<style scoped>\n",
       "    .dataframe tbody tr th:only-of-type {\n",
       "        vertical-align: middle;\n",
       "    }\n",
       "\n",
       "    .dataframe tbody tr th {\n",
       "        vertical-align: top;\n",
       "    }\n",
       "\n",
       "    .dataframe thead th {\n",
       "        text-align: right;\n",
       "    }\n",
       "</style>\n",
       "<table border=\"1\" class=\"dataframe\">\n",
       "  <thead>\n",
       "    <tr style=\"text-align: right;\">\n",
       "      <th></th>\n",
       "      <th>Date</th>\n",
       "      <th>Confirmed</th>\n",
       "      <th>Deaths</th>\n",
       "      <th>Population</th>\n",
       "      <th>totvax2</th>\n",
       "    </tr>\n",
       "  </thead>\n",
       "  <tbody>\n",
       "    <tr>\n",
       "      <th>0</th>\n",
       "      <td>2020-01-22</td>\n",
       "      <td>0</td>\n",
       "      <td>0</td>\n",
       "      <td>67886004</td>\n",
       "      <td>0</td>\n",
       "    </tr>\n",
       "    <tr>\n",
       "      <th>1</th>\n",
       "      <td>2020-01-23</td>\n",
       "      <td>0</td>\n",
       "      <td>0</td>\n",
       "      <td>67886004</td>\n",
       "      <td>0</td>\n",
       "    </tr>\n",
       "    <tr>\n",
       "      <th>2</th>\n",
       "      <td>2020-01-24</td>\n",
       "      <td>0</td>\n",
       "      <td>0</td>\n",
       "      <td>67886004</td>\n",
       "      <td>0</td>\n",
       "    </tr>\n",
       "    <tr>\n",
       "      <th>3</th>\n",
       "      <td>2020-01-25</td>\n",
       "      <td>0</td>\n",
       "      <td>0</td>\n",
       "      <td>67886004</td>\n",
       "      <td>0</td>\n",
       "    </tr>\n",
       "    <tr>\n",
       "      <th>4</th>\n",
       "      <td>2020-01-26</td>\n",
       "      <td>0</td>\n",
       "      <td>0</td>\n",
       "      <td>67886004</td>\n",
       "      <td>0</td>\n",
       "    </tr>\n",
       "    <tr>\n",
       "      <th>...</th>\n",
       "      <td>...</td>\n",
       "      <td>...</td>\n",
       "      <td>...</td>\n",
       "      <td>...</td>\n",
       "      <td>...</td>\n",
       "    </tr>\n",
       "    <tr>\n",
       "      <th>683</th>\n",
       "      <td>2021-12-05</td>\n",
       "      <td>10464389</td>\n",
       "      <td>145605</td>\n",
       "      <td>67886004</td>\n",
       "      <td>42815901</td>\n",
       "    </tr>\n",
       "    <tr>\n",
       "      <th>684</th>\n",
       "      <td>2021-12-06</td>\n",
       "      <td>10515239</td>\n",
       "      <td>145646</td>\n",
       "      <td>67886004</td>\n",
       "      <td>42838226</td>\n",
       "    </tr>\n",
       "    <tr>\n",
       "      <th>685</th>\n",
       "      <td>2021-12-07</td>\n",
       "      <td>10560341</td>\n",
       "      <td>145826</td>\n",
       "      <td>67886004</td>\n",
       "      <td>42862418</td>\n",
       "    </tr>\n",
       "    <tr>\n",
       "      <th>686</th>\n",
       "      <td>2021-12-08</td>\n",
       "      <td>10610958</td>\n",
       "      <td>145987</td>\n",
       "      <td>67886004</td>\n",
       "      <td>42888553</td>\n",
       "    </tr>\n",
       "    <tr>\n",
       "      <th>687</th>\n",
       "      <td>2021-12-09</td>\n",
       "      <td>10660981</td>\n",
       "      <td>146135</td>\n",
       "      <td>67886004</td>\n",
       "      <td>42888553</td>\n",
       "    </tr>\n",
       "  </tbody>\n",
       "</table>\n",
       "<p>688 rows × 5 columns</p>\n",
       "</div>"
      ],
      "text/plain": [
       "          Date  Confirmed  Deaths  Population   totvax2\n",
       "0   2020-01-22          0       0    67886004         0\n",
       "1   2020-01-23          0       0    67886004         0\n",
       "2   2020-01-24          0       0    67886004         0\n",
       "3   2020-01-25          0       0    67886004         0\n",
       "4   2020-01-26          0       0    67886004         0\n",
       "..         ...        ...     ...         ...       ...\n",
       "683 2021-12-05   10464389  145605    67886004  42815901\n",
       "684 2021-12-06   10515239  145646    67886004  42838226\n",
       "685 2021-12-07   10560341  145826    67886004  42862418\n",
       "686 2021-12-08   10610958  145987    67886004  42888553\n",
       "687 2021-12-09   10660981  146135    67886004  42888553\n",
       "\n",
       "[688 rows x 5 columns]"
      ]
     },
     "execution_count": 12,
     "metadata": {},
     "output_type": "execute_result"
    }
   ],
   "source": [
    "#extract uk rows from covidc\n",
    "ukr = covidc.loc[covidc['Country/Region'] == 'United Kingdom']\n",
    "\n",
    "#extract vax data\n",
    "url3 = 'https://www.cl.cam.ac.uk/teaching/2122/DataSci/data/covidvax_uk_20211209.csv'\n",
    "uk_vax = pd.read_csv(url3)\n",
    "uk_vax['date'] = pd.to_datetime(uk_vax['date'])\n",
    "uk_vax = uk_vax.groupby('date')['cumPeopleVaccinatedSecondDoseByVaccinationDate'].apply(sum).reset_index()\n",
    "uk_vax.rename(columns = {'cumPeopleVaccinatedSecondDoseByVaccinationDate': 'totvax2', 'date':'Date'}, inplace = True)\n",
    "ukc = ukr.merge(uk_vax, how = 'left', on = 'Date')\n",
    "ukc['totvax2'].loc[pd.isna(ukc['totvax2'])] = 0 \n",
    "ukc['totvax2'] = ukc['totvax2'].astype(int)\n",
    "ukc['totvax2'].iat[687] = ukc['totvax2'].iat[686]\n",
    "del ukc['Country/Region']\n",
    "ukc\n"
   ]
  },
  {
   "cell_type": "code",
   "execution_count": 13,
   "id": "ec3f1c32",
   "metadata": {},
   "outputs": [
    {
     "name": "stdout",
     "output_type": "stream",
     "text": [
      "Correct!\n"
     ]
    },
    {
     "data": {
      "text/plain": [
       "True"
      ]
     },
     "execution_count": 13,
     "metadata": {},
     "output_type": "execute_result"
    }
   ],
   "source": [
    "# test question 6\n",
    "ukc = ukc # your answer as a DataFrame\n",
    "\n",
    "q = GRADER2a.fetch_question('q6')\n",
    "dates = pd.to_datetime(q.dates)\n",
    "submit = ukc.loc[ukc.Date.isin(dates), q.cols].assign(Date=lambda df: df.Date.astype(str))\n",
    "GRADER2a.submit_answer(q, {'num_rows': len(ukc), 'details': submit})"
   ]
  },
  {
   "cell_type": "markdown",
   "id": "af91a50c",
   "metadata": {},
   "source": [
    "# Tick 2b"
   ]
  },
  {
   "cell_type": "markdown",
   "id": "c77c2f29",
   "metadata": {},
   "source": [
    "# question7"
   ]
  },
  {
   "cell_type": "code",
   "execution_count": 14,
   "id": "a4e6b8b4",
   "metadata": {},
   "outputs": [
    {
     "data": {
      "text/html": [
       "<div>\n",
       "<style scoped>\n",
       "    .dataframe tbody tr th:only-of-type {\n",
       "        vertical-align: middle;\n",
       "    }\n",
       "\n",
       "    .dataframe tbody tr th {\n",
       "        vertical-align: top;\n",
       "    }\n",
       "\n",
       "    .dataframe thead th {\n",
       "        text-align: right;\n",
       "    }\n",
       "</style>\n",
       "<table border=\"1\" class=\"dataframe\">\n",
       "  <thead>\n",
       "    <tr style=\"text-align: right;\">\n",
       "      <th></th>\n",
       "      <th>Date</th>\n",
       "      <th>Confirmed</th>\n",
       "      <th>Deaths</th>\n",
       "      <th>new_confirmed</th>\n",
       "      <th>new_deaths</th>\n",
       "      <th>smooth_new_confirmed</th>\n",
       "    </tr>\n",
       "  </thead>\n",
       "  <tbody>\n",
       "    <tr>\n",
       "      <th>72</th>\n",
       "      <td>2020-04-03</td>\n",
       "      <td>53178</td>\n",
       "      <td>4518</td>\n",
       "      <td>4915</td>\n",
       "      <td>736</td>\n",
       "      <td>4165.857143</td>\n",
       "    </tr>\n",
       "  </tbody>\n",
       "</table>\n",
       "</div>"
      ],
      "text/plain": [
       "         Date  Confirmed  Deaths  new_confirmed  new_deaths  \\\n",
       "72 2020-04-03      53178    4518           4915         736   \n",
       "\n",
       "    smooth_new_confirmed  \n",
       "72           4165.857143  "
      ]
     },
     "execution_count": 14,
     "metadata": {},
     "output_type": "execute_result"
    }
   ],
   "source": [
    "#use diff(last row - previous row) to calculate new_confirmed and new_deaths\n",
    "ukc['new_confirmed'] = ukc['Confirmed'].diff().fillna(0).astype(int)\n",
    "ukc['new_deaths'] = ukc['Deaths'].diff().fillna(0).astype(int) \n",
    "\n",
    "#calculate avg value of past 6 days and use list comprehension to construct the corresponding vector\n",
    "ukc['smooth_new_confirmed'] = ukc['new_confirmed'].rolling(window = 7).mean().fillna(0)\n",
    "\n",
    "ukc_new = ukc[['Date', 'Confirmed', 'Deaths', 'new_confirmed', 'new_deaths', 'smooth_new_confirmed']]\n",
    "ukc_new.loc[ukc_new['Date'] == '2020-04-03']"
   ]
  },
  {
   "cell_type": "code",
   "execution_count": 15,
   "id": "1cbba063",
   "metadata": {},
   "outputs": [
    {
     "name": "stdout",
     "output_type": "stream",
     "text": [
      "Correct!\n"
     ]
    },
    {
     "data": {
      "text/plain": [
       "True"
      ]
     },
     "execution_count": 15,
     "metadata": {},
     "output_type": "execute_result"
    }
   ],
   "source": [
    "#test question7\n",
    "GRADER2b = GRADER.subsection('tick2b')\n",
    "ans = ukc_new # your answer as a DataFrame\n",
    "q = GRADER2b.fetch_question('q7')\n",
    "dates = pd.to_datetime(q.dates)\n",
    "submit = ans.loc[ans.Date.isin(dates), q.cols].assign(Date=lambda df: df.Date.astype(str))\n",
    "GRADER2b.submit_answer(q, submit)"
   ]
  },
  {
   "cell_type": "markdown",
   "id": "86189fc4",
   "metadata": {},
   "source": [
    "# question 8"
   ]
  },
  {
   "cell_type": "code",
   "execution_count": 16,
   "id": "c1e89871",
   "metadata": {},
   "outputs": [
    {
     "name": "stderr",
     "output_type": "stream",
     "text": [
      "Matplotlib created a temporary config/cache directory at /tmp/matplotlib-cte_9ll4 because the default path (/home/bl499/.cache/matplotlib) is not a writable directory; it is highly recommended to set the MPLCONFIGDIR environment variable to a writable directory, in particular to speed up the import of Matplotlib and to better support multiprocessing.\n"
     ]
    },
    {
     "data": {
      "image/png": "[encoded data removed]",
      "text/plain": [
       "<Figure size 864x540 with 3 Axes>"
      ]
     },
     "metadata": {
      "needs_background": "light"
     },
     "output_type": "display_data"
    }
   ],
   "source": [
    "import matplotlib.pyplot as plt\n",
    "fig, ax = plt.subplots(3, 1, sharex = True, figsize = (12, 7.5))\n",
    "ax[0].plot(ukc_new['Date'], ukc_new['smooth_new_confirmed'], linewidth = 1)\n",
    "ax[0].bar(ukc_new['Date'], ukc_new['new_confirmed'], color = 'cyan')\n",
    "ax[0].set_title('daily cases')\n",
    "ax[1].bar(ukc_new['Date'], ukc_new['new_deaths'], color = 'cyan')\n",
    "ax[1].set_title('daily deaths')\n",
    "ax[2].plot(ukc['Date'], ukc['totvax2'] / ukc['Population'], linewidth = 1)\n",
    "ax[2].set_title('% 2vaccinated')\n",
    "ax[2].set_ylim([0, 1])\n",
    "\n",
    "plt.show()"
   ]
  },
  {
   "cell_type": "markdown",
   "id": "e657301e",
   "metadata": {},
   "source": [
    "# question 9"
   ]
  },
  {
   "cell_type": "code",
   "execution_count": 17,
   "id": "7c427586",
   "metadata": {},
   "outputs": [
    {
     "data": {
      "text/html": [
       "<div>\n",
       "<style scoped>\n",
       "    .dataframe tbody tr th:only-of-type {\n",
       "        vertical-align: middle;\n",
       "    }\n",
       "\n",
       "    .dataframe tbody tr th {\n",
       "        vertical-align: top;\n",
       "    }\n",
       "\n",
       "    .dataframe thead th {\n",
       "        text-align: right;\n",
       "    }\n",
       "</style>\n",
       "<table border=\"1\" class=\"dataframe\">\n",
       "  <thead>\n",
       "    <tr style=\"text-align: right;\">\n",
       "      <th></th>\n",
       "      <th>wave</th>\n",
       "      <th>Confirmed</th>\n",
       "      <th>Deaths</th>\n",
       "      <th>vaxrate</th>\n",
       "      <th>cfr</th>\n",
       "    </tr>\n",
       "  </thead>\n",
       "  <tbody>\n",
       "    <tr>\n",
       "      <th>0</th>\n",
       "      <td>wave1</td>\n",
       "      <td>303181</td>\n",
       "      <td>41189</td>\n",
       "      <td>0.000000</td>\n",
       "      <td>0.135856</td>\n",
       "    </tr>\n",
       "    <tr>\n",
       "      <th>1</th>\n",
       "      <td>wave2</td>\n",
       "      <td>4113442</td>\n",
       "      <td>86328</td>\n",
       "      <td>0.202607</td>\n",
       "      <td>0.020987</td>\n",
       "    </tr>\n",
       "    <tr>\n",
       "      <th>2</th>\n",
       "      <td>wave3</td>\n",
       "      <td>6244358</td>\n",
       "      <td>18618</td>\n",
       "      <td>0.631773</td>\n",
       "      <td>0.002982</td>\n",
       "    </tr>\n",
       "  </tbody>\n",
       "</table>\n",
       "</div>"
      ],
      "text/plain": [
       "    wave  Confirmed  Deaths   vaxrate       cfr\n",
       "0  wave1     303181   41189  0.000000  0.135856\n",
       "1  wave2    4113442   86328  0.202607  0.020987\n",
       "2  wave3    6244358   18618  0.631773  0.002982"
      ]
     },
     "execution_count": 17,
     "metadata": {},
     "output_type": "execute_result"
    }
   ],
   "source": [
    "waves = ukc[['Date', 'Confirmed', 'Deaths', 'totvax2']].loc[(ukc['Date'] == '2020-7-31') | (ukc['Date'] == '2021-4-30') | (ukc['Date'] == '2021-12-09')]\n",
    "waves['Confirmed'] = waves['Confirmed'].diff().fillna(303181).astype(int)\n",
    "waves['Deaths'] = waves['Deaths'].diff().fillna(41189).astype(int)\n",
    "waves['Date'] = ['wave1', 'wave2', 'wave3']\n",
    "waves['totvax2'] = waves['totvax2']/67886004\n",
    "waves.rename(columns = {'Date' : 'wave', 'totvax2':'vaxrate'}, inplace = True)\n",
    "waves['cfr'] = waves['Deaths'] / waves['Confirmed'] \n",
    "waves = waves.reset_index()\n",
    "del waves['index']\n",
    "waves"
   ]
  },
  {
   "cell_type": "code",
   "execution_count": 18,
   "id": "a5b2a8be",
   "metadata": {},
   "outputs": [
    {
     "name": "stdout",
     "output_type": "stream",
     "text": [
      "Correct!\n"
     ]
    },
    {
     "data": {
      "text/plain": [
       "True"
      ]
     },
     "execution_count": 18,
     "metadata": {},
     "output_type": "execute_result"
    }
   ],
   "source": [
    "#test question 9\n",
    "ans = waves # your answer as a DataFrame\n",
    "GRADER2b.submit_answer(GRADER2b.fetch_question('q9'), ans)"
   ]
  },
  {
   "cell_type": "markdown",
   "id": "05909b25",
   "metadata": {},
   "source": [
    "# question 10"
   ]
  },
  {
   "cell_type": "code",
   "execution_count": 110,
   "id": "19cf5a56",
   "metadata": {},
   "outputs": [
    {
     "data": {
      "text/html": [
       "<div>\n",
       "<style scoped>\n",
       "    .dataframe tbody tr th:only-of-type {\n",
       "        vertical-align: middle;\n",
       "    }\n",
       "\n",
       "    .dataframe tbody tr th {\n",
       "        vertical-align: top;\n",
       "    }\n",
       "\n",
       "    .dataframe thead th {\n",
       "        text-align: right;\n",
       "    }\n",
       "</style>\n",
       "<table border=\"1\" class=\"dataframe\">\n",
       "  <thead>\n",
       "    <tr style=\"text-align: right;\">\n",
       "      <th></th>\n",
       "      <th>Country/Region</th>\n",
       "      <th>Confirmed</th>\n",
       "      <th>Deaths</th>\n",
       "      <th>cfr</th>\n",
       "    </tr>\n",
       "  </thead>\n",
       "  <tbody>\n",
       "    <tr>\n",
       "      <th>0</th>\n",
       "      <td>Afghanistan</td>\n",
       "      <td>120957</td>\n",
       "      <td>6046</td>\n",
       "      <td>0.049985</td>\n",
       "    </tr>\n",
       "    <tr>\n",
       "      <th>1</th>\n",
       "      <td>Albania</td>\n",
       "      <td>197587</td>\n",
       "      <td>2971</td>\n",
       "      <td>0.015036</td>\n",
       "    </tr>\n",
       "    <tr>\n",
       "      <th>2</th>\n",
       "      <td>Algeria</td>\n",
       "      <td>181830</td>\n",
       "      <td>4916</td>\n",
       "      <td>0.027036</td>\n",
       "    </tr>\n",
       "    <tr>\n",
       "      <th>3</th>\n",
       "      <td>Andorra</td>\n",
       "      <td>18347</td>\n",
       "      <td>81</td>\n",
       "      <td>0.004415</td>\n",
       "    </tr>\n",
       "    <tr>\n",
       "      <th>4</th>\n",
       "      <td>Angola</td>\n",
       "      <td>64198</td>\n",
       "      <td>1684</td>\n",
       "      <td>0.026231</td>\n",
       "    </tr>\n",
       "    <tr>\n",
       "      <th>...</th>\n",
       "      <td>...</td>\n",
       "      <td>...</td>\n",
       "      <td>...</td>\n",
       "      <td>...</td>\n",
       "    </tr>\n",
       "    <tr>\n",
       "      <th>188</th>\n",
       "      <td>Vietnam</td>\n",
       "      <td>1366875</td>\n",
       "      <td>27183</td>\n",
       "      <td>0.019887</td>\n",
       "    </tr>\n",
       "    <tr>\n",
       "      <th>189</th>\n",
       "      <td>West Bank and Gaza</td>\n",
       "      <td>451440</td>\n",
       "      <td>4744</td>\n",
       "      <td>0.010509</td>\n",
       "    </tr>\n",
       "    <tr>\n",
       "      <th>190</th>\n",
       "      <td>Yemen</td>\n",
       "      <td>8319</td>\n",
       "      <td>1464</td>\n",
       "      <td>0.175983</td>\n",
       "    </tr>\n",
       "    <tr>\n",
       "      <th>191</th>\n",
       "      <td>Zambia</td>\n",
       "      <td>204599</td>\n",
       "      <td>3517</td>\n",
       "      <td>0.017190</td>\n",
       "    </tr>\n",
       "    <tr>\n",
       "      <th>192</th>\n",
       "      <td>Zimbabwe</td>\n",
       "      <td>152648</td>\n",
       "      <td>4656</td>\n",
       "      <td>0.030502</td>\n",
       "    </tr>\n",
       "  </tbody>\n",
       "</table>\n",
       "<p>193 rows × 4 columns</p>\n",
       "</div>"
      ],
      "text/plain": [
       "         Country/Region  Confirmed  Deaths       cfr\n",
       "0           Afghanistan     120957    6046  0.049985\n",
       "1               Albania     197587    2971  0.015036\n",
       "2               Algeria     181830    4916  0.027036\n",
       "3               Andorra      18347      81  0.004415\n",
       "4                Angola      64198    1684  0.026231\n",
       "..                  ...        ...     ...       ...\n",
       "188             Vietnam    1366875   27183  0.019887\n",
       "189  West Bank and Gaza     451440    4744  0.010509\n",
       "190               Yemen       8319    1464  0.175983\n",
       "191              Zambia     204599    3517  0.017190\n",
       "192            Zimbabwe     152648    4656  0.030502\n",
       "\n",
       "[193 rows x 4 columns]"
      ]
     },
     "execution_count": 110,
     "metadata": {},
     "output_type": "execute_result"
    }
   ],
   "source": [
    "#question 10 is not entirely correct, sometimes deaths are incorrect(maybe due to covidc?)\n",
    "after = covidc[covidc['Date'] >= '2020-08-01']\n",
    "before = covidc[covidc['Date'] < '2020-08-01']\n",
    "before = before.groupby(['Country/Region'])[['Confirmed', 'Deaths']].apply(max).reset_index()\n",
    "after = after.groupby(['Country/Region'])[['Confirmed', 'Deaths']].apply(max).reset_index()\n",
    "\n",
    "after['Confirmed'] = after['Confirmed'] - before['Confirmed']\n",
    "after['Deaths'] = after['Deaths'] - before['Deaths']\n",
    "after['cfr'] = after['Deaths'] / after['Confirmed']\n",
    "after.loc[after['Country/Region'] == 'Netherlands']\n",
    "q10 = after\n",
    "q10"
   ]
  },
  {
   "cell_type": "code",
   "execution_count": 74,
   "id": "d8c6f9c5",
   "metadata": {},
   "outputs": [
    {
     "name": "stdout",
     "output_type": "stream",
     "text": [
      "Correct!\n"
     ]
    },
    {
     "data": {
      "text/plain": [
       "True"
      ]
     },
     "execution_count": 74,
     "metadata": {},
     "output_type": "execute_result"
    }
   ],
   "source": [
    "ans = after # your answer as a DataFrame\n",
    "q = GRADER2b.fetch_question('q10')\n",
    "submit = ans.loc[ans['Country/Region'].isin(q.countries), q.cols]\n",
    "GRADER2b.submit_answer(q, submit)"
   ]
  },
  {
   "cell_type": "markdown",
   "id": "43b1eb3d",
   "metadata": {},
   "source": [
    "# question 11"
   ]
  },
  {
   "cell_type": "code",
   "execution_count": 189,
   "id": "a552a43c",
   "metadata": {},
   "outputs": [
    {
     "data": {
      "image/png": "[encoded data removed]",
      "text/plain": [
       "<Figure size 720x540 with 1 Axes>"
      ]
     },
     "metadata": {
      "needs_background": "light"
     },
     "output_type": "display_data"
    }
   ],
   "source": [
    "fig, ax = plt.subplots(figsize = (10, 7.5))\n",
    "countries = ['Austria','Belgium','Czechia','Denmark','Finland','France','Germany',\n",
    " 'Greece','Hungary','Ireland','Italy',\n",
    " 'Netherlands','Norway','Poland','Portugal','Spain','Sweden','Switzerland','United Kingdom',\n",
    " 'Australia','US','Canada','Japan','China','Russia','Ukraine','India']\n",
    "q11 = q10.loc[q10['Country/Region'].isin(countries)]\n",
    "ax.loglog(q11['Confirmed'], q11['Deaths'], 'o')\n",
    "x = np.linspace(1, 80000, 2000)\n",
    "x_input = x * 10**4\n",
    "y_input1 = x * 10**2\n",
    "y_input2 = x * 10**2 * 2\n",
    "y_input3 = x * 10**2 / 2\n",
    "ax.plot(x_input, y_input1, '-', label = 'cfr 1.0%', color = 'lightgrey')\n",
    "ax.plot(x_input, y_input2, label = 'cfr 2.0%', color = 'lightgrey')\n",
    "ax.plot(x_input, y_input3, label = 'cfr 0.5%', color = 'lightgrey')\n",
    "ax.legend()\n",
    "ax.set_xlim([10**4, 10**10])\n",
    "ax.set_ylim([10, 10**7])\n",
    "\n",
    "for i, country in enumerate(q11[\"Country/Region\"]):\n",
    "    ax.annotate(country, (q11[\"Confirmed\"].iloc[i], q11[\"Deaths\"].iloc[i]))\n",
    "\n",
    "plt.xlabel('Confirmed Cases')\n",
    "plt.ylabel('Deaths')\n",
    "plt.show()"
   ]
  },
  {
   "cell_type": "markdown",
   "id": "433740d9",
   "metadata": {},
   "source": [
    "# question 12"
   ]
  },
  {
   "cell_type": "code",
   "execution_count": 148,
   "id": "08f0b3eb",
   "metadata": {},
   "outputs": [
    {
     "data": {
      "text/html": [
       "<div>\n",
       "<style scoped>\n",
       "    .dataframe tbody tr th:only-of-type {\n",
       "        vertical-align: middle;\n",
       "    }\n",
       "\n",
       "    .dataframe tbody tr th {\n",
       "        vertical-align: top;\n",
       "    }\n",
       "\n",
       "    .dataframe thead th {\n",
       "        text-align: right;\n",
       "    }\n",
       "</style>\n",
       "<table border=\"1\" class=\"dataframe\">\n",
       "  <thead>\n",
       "    <tr style=\"text-align: right;\">\n",
       "      <th></th>\n",
       "      <th>Country/Region</th>\n",
       "      <th>Date</th>\n",
       "      <th>Confirmed</th>\n",
       "      <th>Deaths</th>\n",
       "      <th>new_confirmed</th>\n",
       "      <th>new_deaths</th>\n",
       "      <th>smooth_new_confirmed</th>\n",
       "      <th>infected</th>\n",
       "      <th>inc</th>\n",
       "      <th>R</th>\n",
       "    </tr>\n",
       "  </thead>\n",
       "  <tbody>\n",
       "    <tr>\n",
       "      <th>0</th>\n",
       "      <td>Afghanistan</td>\n",
       "      <td>2020-01-22</td>\n",
       "      <td>0</td>\n",
       "      <td>0</td>\n",
       "      <td>0</td>\n",
       "      <td>0</td>\n",
       "      <td>0.000000</td>\n",
       "      <td>NaN</td>\n",
       "      <td>NaN</td>\n",
       "      <td>NaN</td>\n",
       "    </tr>\n",
       "    <tr>\n",
       "      <th>280</th>\n",
       "      <td>Afghanistan</td>\n",
       "      <td>2020-01-23</td>\n",
       "      <td>0</td>\n",
       "      <td>0</td>\n",
       "      <td>0</td>\n",
       "      <td>0</td>\n",
       "      <td>0.000000</td>\n",
       "      <td>NaN</td>\n",
       "      <td>NaN</td>\n",
       "      <td>NaN</td>\n",
       "    </tr>\n",
       "    <tr>\n",
       "      <th>560</th>\n",
       "      <td>Afghanistan</td>\n",
       "      <td>2020-01-24</td>\n",
       "      <td>0</td>\n",
       "      <td>0</td>\n",
       "      <td>0</td>\n",
       "      <td>0</td>\n",
       "      <td>0.000000</td>\n",
       "      <td>NaN</td>\n",
       "      <td>NaN</td>\n",
       "      <td>NaN</td>\n",
       "    </tr>\n",
       "    <tr>\n",
       "      <th>840</th>\n",
       "      <td>Afghanistan</td>\n",
       "      <td>2020-01-25</td>\n",
       "      <td>0</td>\n",
       "      <td>0</td>\n",
       "      <td>0</td>\n",
       "      <td>0</td>\n",
       "      <td>0.000000</td>\n",
       "      <td>NaN</td>\n",
       "      <td>NaN</td>\n",
       "      <td>NaN</td>\n",
       "    </tr>\n",
       "    <tr>\n",
       "      <th>1120</th>\n",
       "      <td>Afghanistan</td>\n",
       "      <td>2020-01-26</td>\n",
       "      <td>0</td>\n",
       "      <td>0</td>\n",
       "      <td>0</td>\n",
       "      <td>0</td>\n",
       "      <td>0.000000</td>\n",
       "      <td>NaN</td>\n",
       "      <td>NaN</td>\n",
       "      <td>NaN</td>\n",
       "    </tr>\n",
       "    <tr>\n",
       "      <th>...</th>\n",
       "      <td>...</td>\n",
       "      <td>...</td>\n",
       "      <td>...</td>\n",
       "      <td>...</td>\n",
       "      <td>...</td>\n",
       "      <td>...</td>\n",
       "      <td>...</td>\n",
       "      <td>...</td>\n",
       "      <td>...</td>\n",
       "      <td>...</td>\n",
       "    </tr>\n",
       "    <tr>\n",
       "      <th>191519</th>\n",
       "      <td>Zimbabwe</td>\n",
       "      <td>2021-12-05</td>\n",
       "      <td>139046</td>\n",
       "      <td>4710</td>\n",
       "      <td>523</td>\n",
       "      <td>1</td>\n",
       "      <td>727.857143</td>\n",
       "      <td>2836.142857</td>\n",
       "      <td>1.328938</td>\n",
       "      <td>4.289377</td>\n",
       "    </tr>\n",
       "    <tr>\n",
       "      <th>191799</th>\n",
       "      <td>Zimbabwe</td>\n",
       "      <td>2021-12-06</td>\n",
       "      <td>139046</td>\n",
       "      <td>4710</td>\n",
       "      <td>0</td>\n",
       "      <td>0</td>\n",
       "      <td>688.571429</td>\n",
       "      <td>3490.000000</td>\n",
       "      <td>1.230545</td>\n",
       "      <td>3.305445</td>\n",
       "    </tr>\n",
       "    <tr>\n",
       "      <th>192079</th>\n",
       "      <td>Zimbabwe</td>\n",
       "      <td>2021-12-07</td>\n",
       "      <td>141601</td>\n",
       "      <td>4713</td>\n",
       "      <td>2555</td>\n",
       "      <td>3</td>\n",
       "      <td>996.571429</td>\n",
       "      <td>4455.000000</td>\n",
       "      <td>1.276504</td>\n",
       "      <td>3.765043</td>\n",
       "    </tr>\n",
       "    <tr>\n",
       "      <th>192359</th>\n",
       "      <td>Zimbabwe</td>\n",
       "      <td>2021-12-08</td>\n",
       "      <td>150628</td>\n",
       "      <td>4720</td>\n",
       "      <td>9027</td>\n",
       "      <td>7</td>\n",
       "      <td>2184.428571</td>\n",
       "      <td>6596.000000</td>\n",
       "      <td>1.480584</td>\n",
       "      <td>5.805836</td>\n",
       "    </tr>\n",
       "    <tr>\n",
       "      <th>192639</th>\n",
       "      <td>Zimbabwe</td>\n",
       "      <td>2021-12-09</td>\n",
       "      <td>155817</td>\n",
       "      <td>4723</td>\n",
       "      <td>5189</td>\n",
       "      <td>3</td>\n",
       "      <td>2776.857143</td>\n",
       "      <td>9294.000000</td>\n",
       "      <td>1.409036</td>\n",
       "      <td>5.090358</td>\n",
       "    </tr>\n",
       "  </tbody>\n",
       "</table>\n",
       "<p>134848 rows × 10 columns</p>\n",
       "</div>"
      ],
      "text/plain": [
       "       Country/Region       Date  Confirmed  Deaths  new_confirmed  \\\n",
       "0         Afghanistan 2020-01-22          0       0              0   \n",
       "280       Afghanistan 2020-01-23          0       0              0   \n",
       "560       Afghanistan 2020-01-24          0       0              0   \n",
       "840       Afghanistan 2020-01-25          0       0              0   \n",
       "1120      Afghanistan 2020-01-26          0       0              0   \n",
       "...               ...        ...        ...     ...            ...   \n",
       "191519       Zimbabwe 2021-12-05     139046    4710            523   \n",
       "191799       Zimbabwe 2021-12-06     139046    4710              0   \n",
       "192079       Zimbabwe 2021-12-07     141601    4713           2555   \n",
       "192359       Zimbabwe 2021-12-08     150628    4720           9027   \n",
       "192639       Zimbabwe 2021-12-09     155817    4723           5189   \n",
       "\n",
       "        new_deaths  smooth_new_confirmed     infected       inc         R  \n",
       "0                0              0.000000          NaN       NaN       NaN  \n",
       "280              0              0.000000          NaN       NaN       NaN  \n",
       "560              0              0.000000          NaN       NaN       NaN  \n",
       "840              0              0.000000          NaN       NaN       NaN  \n",
       "1120             0              0.000000          NaN       NaN       NaN  \n",
       "...            ...                   ...          ...       ...       ...  \n",
       "191519           1            727.857143  2836.142857  1.328938  4.289377  \n",
       "191799           0            688.571429  3490.000000  1.230545  3.305445  \n",
       "192079           3            996.571429  4455.000000  1.276504  3.765043  \n",
       "192359           7           2184.428571  6596.000000  1.480584  5.805836  \n",
       "192639           3           2776.857143  9294.000000  1.409036  5.090358  \n",
       "\n",
       "[134848 rows x 10 columns]"
      ]
     },
     "execution_count": 148,
     "metadata": {},
     "output_type": "execute_result"
    }
   ],
   "source": [
    "#use diff(last row - previous row) to calculate new_confirmed and new_deaths\n",
    "covidc['new_confirmed'] = covidc['Confirmed'].diff().fillna(0).astype(int)\n",
    "covidc['new_deaths'] = covidc['Deaths'].diff().fillna(0).astype(int) \n",
    "\n",
    "#calculate avg value of past 6 days and use list comprehension to construct the corresponding vector\n",
    "covidc['smooth_new_confirmed'] = covidc['new_confirmed'].rolling(window=7).mean().fillna(0)\n",
    "\n",
    "covidc_new = covidc[['Country/Region','Date', 'Confirmed', 'Deaths', 'new_confirmed', 'new_deaths', 'smooth_new_confirmed']]\n",
    "\n",
    "q12 = covidc_new.copy()\n",
    "q12['infected'] = q12['smooth_new_confirmed'].rolling(window = 10).sum()\n",
    "q12['inc'] = q12['infected'] / q12['infected'].shift(1)\n",
    "q12['R']  = 10 * (q12['inc'] - 1) + 1\n",
    "q12"
   ]
  },
  {
   "cell_type": "code",
   "execution_count": 151,
   "id": "339c1641",
   "metadata": {},
   "outputs": [
    {
     "name": "stdout",
     "output_type": "stream",
     "text": [
      "Correct!\n"
     ]
    },
    {
     "data": {
      "text/plain": [
       "True"
      ]
     },
     "execution_count": 151,
     "metadata": {},
     "output_type": "execute_result"
    }
   ],
   "source": [
    "ans = q12 # Your answer as a DataFrame\n",
    "q = GRADER2b.fetch_question('q12')\n",
    "want = pd.DataFrame(q.rows).assign(Date=lambda df: pd.to_datetime(df.Date))\n",
    "submit = ans.merge(want)[q.cols].assign(Date=lambda df: df.Date.astype(str))\n",
    "GRADER2b.submit_answer(q, submit)"
   ]
  },
  {
   "cell_type": "markdown",
   "id": "668a429b",
   "metadata": {},
   "source": [
    "# question 13"
   ]
  },
  {
   "cell_type": "code",
   "execution_count": 220,
   "id": "7718a4e8",
   "metadata": {},
   "outputs": [
    {
     "data": {
      "image/png": "[encoded data removed]",
      "text/plain": [
       "<Figure size 1080x540 with 3 Axes>"
      ]
     },
     "metadata": {
      "needs_background": "light"
     },
     "output_type": "display_data"
    },
    {
     "data": {
      "text/plain": [
       "(56192.71428571428, 0.9450348020216262)"
      ]
     },
     "execution_count": 220,
     "metadata": {},
     "output_type": "execute_result"
    }
   ],
   "source": [
    "uk = q12.loc[(q12['Country/Region'] == 'United Kingdom') & (q12['Date'] >= '2020-08-01')]\n",
    "uk_org = uk.loc[(uk['Date'] <= '2021-03-21')]\n",
    "uk_delta = uk.loc[(uk['Date'] >= '2021-03-21') & (uk['Date'] <= '2021-10-01')]\n",
    "uk_om = uk.loc[(uk['Date'] >= '2021-10-01')]\n",
    "us = q12.loc[(q12['Country/Region'] == 'US') & (q12['Date'] >= '2020-08-01')]\n",
    "us_org = us.loc[(us['Date'] <= '2021-03-21')]\n",
    "us_delta = us.loc[(us['Date'] >= '2021-03-21') & (us['Date'] <= '2021-10-01')]\n",
    "us_om = us.loc[(us['Date'] >= '2021-10-01')]\n",
    "germany = q12.loc[(q12['Country/Region'] == 'Germany') & (q12['Date'] >= '2020-08-01')]\n",
    "ger_org = germany.loc[(germany['Date'] <= '2021-03-21')]\n",
    "ger_delta = germany.loc[(germany['Date'] >= '2021-03-21') & (germany['Date'] <= '2021-10-01')]\n",
    "ger_om = germany.loc[(germany['Date'] >= '2021-10-01')]\n",
    "\n",
    "\n",
    "fig, ax = plt.subplots(3, 1, sharex = True, figsize = (15, 7.5))\n",
    "ax[0].plot(uk_org['infected'] / 1000, uk_org['R'], '+')\n",
    "ax[0].plot(uk_delta['infected'] / 1000, uk_delta['R'], '+', color = 'tan')\n",
    "ax[0].plot(uk_om['infected'] / 1000, uk_om['R'], '+', color = 'olive')\n",
    "ax[0].set_xlim([1, 1200])\n",
    "ax[0].set_ylim([0.0, 3.0])\n",
    "ax[0].set_xscale('log')\n",
    "ax[0].axhline(y = 1.0)\n",
    "ax[0].axhspan(ymin = 0.5, ymax = 1.5, color = 'lightgrey')\n",
    "ax[0].set_title('UK', x = 0.1, y=1.0, pad=-14)\n",
    "ax[1].plot(ger_org['infected'] / 1000, ger_org['R'], '+')\n",
    "ax[1].plot(ger_delta['infected'] / 1000, ger_delta['R'], '+', color = 'tan')\n",
    "ax[1].plot(ger_om['infected'] / 1000, ger_om['R'], '+', color = 'olive')\n",
    "ax[1].set_xlim([1, 1200])\n",
    "ax[1].set_ylim([0.0, 3.0])\n",
    "ax[1].set_xscale('log')\n",
    "ax[1].axhline(y = 1.0)\n",
    "ax[1].axhspan(ymin = 0.5, ymax = 1.5, color = 'lightgrey')\n",
    "ax[1].set_title('Germany', x = 0.1, y=1.0, pad=-14)\n",
    "ax[2].plot(us_org['infected'] / 10000, us_org['R'], '+')\n",
    "ax[2].plot(us_delta['infected'] / 10000, us_delta['R'], '+', color = 'tan')\n",
    "ax[2].plot(us_om['infected'] / 10000, us_om['R'], '+', color = 'olive')\n",
    "ax[2].set_xlim([1, 1200])\n",
    "ax[2].set_ylim([0.0, 3.0])\n",
    "ax[2].set_xscale('log')\n",
    "ax[2].axhline(y = 1.0)\n",
    "ax[2].axhspan(ymin = 0.5, ymax = 1.5, color = 'lightgrey')\n",
    "ax[2].set_title('United States', x = 0.1, y=1.0, pad=-14)\n",
    "\n",
    "ax[0].annotate('delta', xy = (uk_delta['infected'].iat[0] / 1000, uk_delta['R'].iat[0]), fontsize = 13)\n",
    "ax[0].annotate('omicron', xy = (uk_om['infected'].iat[0] / 1000, uk_om['R'].iat[0]), fontsize = 13)\n",
    "ax[1].annotate('delta', xy = (ger_delta['infected'].iat[0] / 1000, ger_delta['R'].iat[0]), fontsize = 13)\n",
    "ax[1].annotate('omicron', xy = (ger_om['infected'].iat[0] / 1000, ger_om['R'].iat[0]), fontsize = 13)\n",
    "ax[2].annotate('delta', xy = (us_delta['infected'].iat[0] / 10000, us_delta['R'].iat[0]), fontsize = 13)\n",
    "ax[2].annotate('omicron', xy = (us_om['infected'].iat[0] / 10000, us_om['R'].iat[0]), fontsize = 13)\n",
    "plt.xlabel('num. infected per 100k')\n",
    "\n",
    "plt.show()\n",
    "(uk_delta['infected'].iat[0], uk_delta['R'].iat[0])"
   ]
  }
 ],
 "metadata": {
  "kernelspec": {
   "display_name": "python3.9",
   "language": "python",
   "name": "python3.9"
  },
  "language_info": {
   "codemirror_mode": {
    "name": "ipython",
    "version": 3
   },
   "file_extension": ".py",
   "mimetype": "text/x-python",
   "name": "python",
   "nbconvert_exporter": "python",
   "pygments_lexer": "ipython3",
   "version": "3.9.9"
  }
 },
 "nbformat": 4,
 "nbformat_minor": 5
}
