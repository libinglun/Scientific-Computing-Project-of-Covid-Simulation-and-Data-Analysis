{
 "cells": [
  {
   "cell_type": "markdown",
   "id": "cead5b0d",
   "metadata": {},
   "source": [
    "# Tick 1a"
   ]
  },
  {
   "cell_type": "code",
   "execution_count": 11,
   "id": "a7bf6a32",
   "metadata": {},
   "outputs": [],
   "source": [
    "import numpy as np\n",
    "import matplotlib.pyplot as plt"
   ]
  },
  {
   "cell_type": "markdown",
   "id": "09591938",
   "metadata": {},
   "source": [
    "# question1"
   ]
  },
  {
   "cell_type": "code",
   "execution_count": 12,
   "id": "bb63c405",
   "metadata": {},
   "outputs": [],
   "source": [
    "#function pair\n",
    "def pairs(M): #M is the total number of people\n",
    "    p = np.random.permutation(M)\n",
    "    m1 = p[:M//2]\n",
    "    m2 = p[M//2:M//2 * 2]\n",
    "    return m1, m2"
   ]
  },
  {
   "cell_type": "code",
   "execution_count": 13,
   "id": "f74957fe",
   "metadata": {},
   "outputs": [
    {
     "data": {
      "text/plain": [
       "(array([5, 3, 0]), array([4, 1, 2]))"
      ]
     },
     "execution_count": 13,
     "metadata": {},
     "output_type": "execute_result"
    }
   ],
   "source": [
    "# test function pair\n",
    "pairs(6)"
   ]
  },
  {
   "cell_type": "code",
   "execution_count": 14,
   "id": "5e14a0f0",
   "metadata": {},
   "outputs": [
    {
     "name": "stdout",
     "output_type": "stream",
     "text": [
      "Waiting for you to log in ... done.\n",
      "Correct!\n"
     ]
    },
    {
     "data": {
      "text/plain": [
       "True"
      ]
     },
     "execution_count": 14,
     "metadata": {},
     "output_type": "execute_result"
    }
   ],
   "source": [
    "#submit q1\n",
    "import ucamcl\n",
    "GRADER = ucamcl.autograder('https://markmy.solutions', course='scicomp')\n",
    "GRADER1a = GRADER.subsection('tick1a')\n",
    "q = GRADER1a.fetch_question('q1')\n",
    "m1,m2 = pairs(q.n)\n",
    "ans = {'n': len(np.unique(np.concatenate([m1,m2]))), 's': np.std(np.abs(m1-m2))}\n",
    "GRADER1a.submit_answer(q, ans)"
   ]
  },
  {
   "cell_type": "markdown",
   "id": "fc065dae",
   "metadata": {},
   "source": [
    "# question2"
   ]
  },
  {
   "cell_type": "code",
   "execution_count": 15,
   "id": "5492d91c",
   "metadata": {},
   "outputs": [],
   "source": [
    "#function is_exposed\n",
    "def is_exposed(popn, m1, m2): #0 for Susceptible, 1 for Protected, 2 for Infected\n",
    "    popn = np.array(popn, dtype = int)\n",
    "    group = (popn[m1] == 2) | (popn[m2] == 2)\n",
    "    result = np.full((len(popn)), False)\n",
    "    result[m1] = group\n",
    "    result[m2] = group          \n",
    "    return result"
   ]
  },
  {
   "cell_type": "code",
   "execution_count": 16,
   "id": "37b614fb",
   "metadata": {},
   "outputs": [
    {
     "data": {
      "text/plain": [
       "array([False, False,  True,  True, False, False])"
      ]
     },
     "execution_count": 16,
     "metadata": {},
     "output_type": "execute_result"
    }
   ],
   "source": [
    "#test function is_exposed\n",
    "is_exposed(np.array([0,0,2,0,0,1]), np.array([3,0,1]), np.array([2,4,5]))"
   ]
  },
  {
   "cell_type": "code",
   "execution_count": 17,
   "id": "b311353e",
   "metadata": {},
   "outputs": [
    {
     "name": "stdout",
     "output_type": "stream",
     "text": [
      "Correct!\n"
     ]
    },
    {
     "data": {
      "text/plain": [
       "True"
      ]
     },
     "execution_count": 17,
     "metadata": {},
     "output_type": "execute_result"
    }
   ],
   "source": [
    "#test function is_exposed\n",
    "q = GRADER1a.fetch_question('q2')\n",
    "ans = is_exposed(q.popn, q.m1, q.m2)\n",
    "GRADER1a.submit_answer(q, ans)"
   ]
  },
  {
   "cell_type": "markdown",
   "id": "8feb9912",
   "metadata": {},
   "source": [
    "# question3"
   ]
  },
  {
   "cell_type": "code",
   "execution_count": 18,
   "id": "eb801b73",
   "metadata": {},
   "outputs": [],
   "source": [
    "#function update\n",
    "\n",
    "#Each person chooses to socialize (with probability prob_socialize) or to isolate.\n",
    "#The people who chose to socialize are randomly grouped into pairs.\n",
    "#Within each pair, if one is Infected and the other not, then the other might become Infected. \n",
    "#The probability of infection is either prob_infect_susceptible or prob_infect_protected depending on their state.\n",
    "#At the end of the day, each person who was Infected at the start of the day recovers \n",
    "#with probability prob_recover, and become Protected.\n",
    "\n",
    "def update(popn, prob):\n",
    "    popn = np.array(popn, dtype = int)\n",
    "    new_popn = np.copy(popn)\n",
    "    \n",
    "    social = np.random.binomial(n = 1, p = prob['socialize'], size = len(popn)).astype(bool)\n",
    "    social_num = np.sum(social)\n",
    "    #find index of those socialized and pair them\n",
    "    m1, m2 = pairs(social_num)\n",
    "    p1 = np.arange(len(popn))[social][m1] \n",
    "    p2 = np.arange(len(popn))[social][m2]\n",
    "    \n",
    "    expose = is_exposed(popn, p1, p2)\n",
    "    \n",
    "    #for susceptible population\n",
    "    exposed_sus_index = np.arange(len(popn))[expose & (popn == 0)]\n",
    "    sus_infected = np.random.binomial(n = 1, p = prob['infect_susceptible'], size = len(exposed_sus_index)).astype(bool)\n",
    "    new_popn[exposed_sus_index[sus_infected]] = 2\n",
    "    \n",
    "    #for protected population\n",
    "    exposed_pro_index = np.arange(len(popn))[expose & (popn == 1)] \n",
    "    pro_infected = np.random.binomial(n = 1, p = prob['infect_protected'], size = len(exposed_pro_index)).astype(bool)\n",
    "    new_popn[exposed_pro_index[pro_infected]] = 2\n",
    "    \n",
    "    new_infected = np.sum(sus_infected) + np.sum(pro_infected)\n",
    "    \n",
    "    #for infected population\n",
    "    infected_index = np.arange(len(popn))[popn == 2]\n",
    "    inf_recovered = np.random.binomial(n = 1, p = prob['recover'], size = len(infected_index)).astype(bool)\n",
    "    new_popn[infected_index[inf_recovered]] = 1\n",
    "    \n",
    "    return new_popn, new_infected"
   ]
  },
  {
   "cell_type": "code",
   "execution_count": 19,
   "id": "09a3fae5",
   "metadata": {},
   "outputs": [
    {
     "data": {
      "text/plain": [
       "(array([2, 2, 2, 2, 1, 1]), 2)"
      ]
     },
     "execution_count": 19,
     "metadata": {},
     "output_type": "execute_result"
    }
   ],
   "source": [
    "#test function update\n",
    "prob = {'socialize': 0.8, 'infect_susceptible': 0.6, 'infect_protected': 0.1, 'recover': 0.1}\n",
    "popn = np.array([0,2,2,0,2,1])\n",
    "update(popn, prob)"
   ]
  },
  {
   "cell_type": "code",
   "execution_count": 20,
   "id": "c6a9a552",
   "metadata": {},
   "outputs": [
    {
     "name": "stdout",
     "output_type": "stream",
     "text": [
      "Correct!\n"
     ]
    },
    {
     "data": {
      "text/plain": [
       "True"
      ]
     },
     "execution_count": 20,
     "metadata": {},
     "output_type": "execute_result"
    }
   ],
   "source": [
    "q = GRADER1a.fetch_question('q3')\n",
    "popn = np.where(np.arange(q.n) < q.i0, 2, 0)\n",
    "popn2,new_infected = update(popn, q.prob)\n",
    "ans = {'i':np.sum(popn2==2), 'ni':new_infected}\n",
    "GRADER1a.submit_answer(q, ans)"
   ]
  },
  {
   "cell_type": "markdown",
   "id": "6000b920",
   "metadata": {},
   "source": [
    "# question4"
   ]
  },
  {
   "cell_type": "code",
   "execution_count": 21,
   "id": "67a32ada",
   "metadata": {},
   "outputs": [],
   "source": [
    "#function sim\n",
    "def sim(N, T, i0, p0, prob):\n",
    "    popn = np.zeros(N, dtype = int)\n",
    "    popn[:i0] = 2\n",
    "    popn[i0:i0+p0] = 1\n",
    "    ans = np.zeros(shape = (T, 4), dtype = int)\n",
    "    row = np.arange(T)\n",
    "    ans[row] \n",
    "    for i in range(T):\n",
    "        popn, new_infected = update(popn, prob)\n",
    "        update_sus = np.sum(popn == 0)\n",
    "        update_pro = np.sum(popn == 1)\n",
    "        update_inj = np.sum(popn == 2) \n",
    "        ans[i] = ([update_sus, update_pro, update_inj, new_infected])\n",
    "    return ans"
   ]
  },
  {
   "cell_type": "code",
   "execution_count": 22,
   "id": "852b9ab4",
   "metadata": {},
   "outputs": [
    {
     "data": {
      "text/plain": [
       "array([[ 9,  3,  8,  3],\n",
       "       [ 7,  4,  9,  2],\n",
       "       [ 5,  5, 10,  2],\n",
       "       [ 5,  4, 11,  1],\n",
       "       [ 5,  4, 11,  1],\n",
       "       [ 3,  5, 12,  2],\n",
       "       [ 3,  5, 12,  0],\n",
       "       [ 2,  6, 12,  1],\n",
       "       [ 2,  8, 10,  0],\n",
       "       [ 2,  7, 11,  1],\n",
       "       [ 1,  8, 11,  1],\n",
       "       [ 1,  9, 10,  0],\n",
       "       [ 1,  9, 10,  0],\n",
       "       [ 1, 11,  8,  0],\n",
       "       [ 1,  9, 10,  3],\n",
       "       [ 1,  9, 10,  1],\n",
       "       [ 0,  9, 11,  1],\n",
       "       [ 0,  9, 11,  0],\n",
       "       [ 0,  9, 11,  0],\n",
       "       [ 0,  9, 11,  0]])"
      ]
     },
     "execution_count": 22,
     "metadata": {},
     "output_type": "execute_result"
    }
   ],
   "source": [
    "sim(20, 20, 5, 3, prob)"
   ]
  },
  {
   "cell_type": "code",
   "execution_count": 23,
   "id": "6130b1f4",
   "metadata": {},
   "outputs": [
    {
     "name": "stdout",
     "output_type": "stream",
     "text": [
      "Correct!\n"
     ]
    },
    {
     "data": {
      "text/plain": [
       "True"
      ]
     },
     "execution_count": 23,
     "metadata": {},
     "output_type": "execute_result"
    }
   ],
   "source": [
    "# test function sim\n",
    "q = GRADER1a.fetch_question('q4')\n",
    "x = sim(N=q.N, T=q.T, i0=q.i0, p0=q.p0, prob=q.prob)\n",
    "ans = x[-1,1] / q.N\n",
    "GRADER1a.submit_answer(q, ans)"
   ]
  },
  {
   "cell_type": "markdown",
   "id": "f91947b6",
   "metadata": {},
   "source": [
    "# question 5"
   ]
  },
  {
   "cell_type": "code",
   "execution_count": 24,
   "id": "99dbddbd",
   "metadata": {},
   "outputs": [],
   "source": [
    "def ploting(N, T, i0, p0):\n",
    "    prob = {'socialize': 0.8, 'infect_susceptible': 0.6, 'infect_protected': 0.1, 'recover': 0.1}\n",
    "    matrix = sim(N, T, i0, p0, prob)\n",
    "    sus_num = matrix[:,0]\n",
    "    pro_num = matrix[:,1]\n",
    "    inj_num = matrix[:,2]\n",
    "    new_infected = matrix[:,3]\n",
    "    \n",
    "    fig, ax = plt.subplots(2, 1, sharex = True)\n",
    "    ax[0].plot(np.arange(200), sus_num / 500, label='S', color = 'grey')\n",
    "    ax[0].plot(np.arange(200), pro_num / 500, label='P', color = 'blue')\n",
    "    ax[0].plot(np.arange(200), inj_num / 500, label='I', color = 'red')\n",
    "    ax[0].legend()\n",
    "    ax[0].set_ylabel('%population')\n",
    "    \n",
    "    ax[1].plot(np.arange(200), new_infected, color = 'red')\n",
    "    ax[1].set_ylabel('new infections')\n",
    "    \n",
    "    plt.show()"
   ]
  },
  {
   "cell_type": "code",
   "execution_count": 25,
   "id": "7e112798",
   "metadata": {},
   "outputs": [
    {
     "data": {
      "image/png": "[encoded data removed]",
      "text/plain": [
       "<Figure size 432x288 with 2 Axes>"
      ]
     },
     "metadata": {
      "needs_background": "light"
     },
     "output_type": "display_data"
    }
   ],
   "source": [
    "#test ploting\n",
    "ploting(50000, 200, 100, 30000)"
   ]
  },
  {
   "cell_type": "markdown",
   "id": "9366a56d",
   "metadata": {},
   "source": [
    "# question 6"
   ]
  },
  {
   "cell_type": "code",
   "execution_count": null,
   "id": "28e7b0ff",
   "metadata": {},
   "outputs": [],
   "source": [
    "def sim_repeat_plot(N, T, i0, p0):\n",
    "    prob = {'socialize': 0.8, 'infect_susceptible': 0.6, 'infect_protected': 0.1, 'recover': 0.1}\n",
    "    fig, ax = plt.subplots(1, 1)\n",
    "    c = ['red', 'grey', 'orange']\n",
    "    for i in range(len(p0)):\n",
    "        for j in range(5):\n",
    "            matrix = sim(N, T, i0, p0[i], prob)\n",
    "            inj_num = matrix[:,2]\n",
    "            ax.plot(np.arange(200), inj_num / 500, color = c[i])\n",
    "            \n",
    "    ax.set_ylabel('%popn infected')\n",
    "    plt.show()"
   ]
  },
  {
   "cell_type": "code",
   "execution_count": null,
   "id": "8f2f476a",
   "metadata": {},
   "outputs": [],
   "source": [
    "#test repeat simulation ploting\n",
    "sim_repeat_plot(50000, 200, 100, [0, 15000, 30000])"
   ]
  },
  {
   "cell_type": "markdown",
   "id": "4d31d8f3",
   "metadata": {},
   "source": [
    "# Tick 1b"
   ]
  },
  {
   "cell_type": "markdown",
   "id": "9fd87035",
   "metadata": {},
   "source": [
    "# question 7"
   ]
  },
  {
   "cell_type": "code",
   "execution_count": 28,
   "id": "396516d2",
   "metadata": {},
   "outputs": [],
   "source": [
    "#calculate number r\n",
    "def r(x, t0, t1, days):\n",
    "    N = np.sum(x[t0:t1, 3])\n",
    "    D = np.sum(x[t0 - 1:t1 - 1, 2]) #start of each day, not end of each day when calculating D\n",
    "    return (days * N) / D"
   ]
  },
  {
   "cell_type": "code",
   "execution_count": 29,
   "id": "21d976db",
   "metadata": {},
   "outputs": [
    {
     "name": "stdout",
     "output_type": "stream",
     "text": [
      "Correct!\n"
     ]
    },
    {
     "data": {
      "text/plain": [
       "True"
      ]
     },
     "execution_count": 29,
     "metadata": {},
     "output_type": "execute_result"
    }
   ],
   "source": [
    "#test function r:\n",
    "GRADER1b = GRADER.subsection('tick1b')\n",
    "q = GRADER1b.fetch_question('q7')\n",
    "ans = r(np.array(q.x), t0=q.t0, t1=q.t1, days=q.days)\n",
    "GRADER1b.submit_answer(q, ans)"
   ]
  },
  {
   "cell_type": "markdown",
   "id": "412e417e",
   "metadata": {},
   "source": [
    "# question 8"
   ]
  },
  {
   "cell_type": "code",
   "execution_count": 30,
   "id": "9b1d87e2",
   "metadata": {},
   "outputs": [],
   "source": [
    "def sim_repeat_r(t0, t1, p0):\n",
    "    prob = {'socialize': 0.8, 'infect_susceptible': 0.6, 'infect_protected': 0.1, 'recover': 0.1}\n",
    "    ans = np.zeros(shape = (3, 2), dtype = float)\n",
    "    for i in range(3):\n",
    "        matrix = sim(50000, 200, 100, p0[i], prob)\n",
    "        R = r(matrix, t0, t1, 1/prob['recover'])\n",
    "        ans[i] = [round(p0[i], 0), round(R, 2)]\n",
    "    return ans"
   ]
  },
  {
   "cell_type": "code",
   "execution_count": 31,
   "id": "ea3df590",
   "metadata": {},
   "outputs": [
    {
     "data": {
      "text/plain": [
       "array([[0.00e+00, 4.35e+00],\n",
       "       [1.50e+04, 3.51e+00],\n",
       "       [3.00e+04, 2.31e+00]])"
      ]
     },
     "execution_count": 31,
     "metadata": {},
     "output_type": "execute_result"
    }
   ],
   "source": [
    "#test sim_repeat_r\n",
    "sim_repeat_r(7, 14, [0, 15000, 30000])"
   ]
  },
  {
   "cell_type": "markdown",
   "id": "5fe8c3f6",
   "metadata": {},
   "source": [
    "# question 9 "
   ]
  },
  {
   "cell_type": "code",
   "execution_count": 34,
   "id": "119c455c",
   "metadata": {},
   "outputs": [],
   "source": [
    "def localpairs(M, σ):\n",
    "    loc = np.arange(M) + np.random.normal(loc = 0, scale = σ, size = M)\n",
    "    index = np.argsort(loc)\n",
    "    return index[:M//2*2:2], index[1:M//2*2:2]"
   ]
  },
  {
   "cell_type": "code",
   "execution_count": 35,
   "id": "ac571e77",
   "metadata": {},
   "outputs": [
    {
     "data": {
      "text/plain": [
       "(array([ 0,  2,  3,  7,  6, 12, 11, 16, 13, 15, 20, 21, 25, 22, 29, 30, 31,\n",
       "        32, 38, 36, 40, 41, 48, 46, 44, 51, 50, 53, 58, 54, 59, 64, 62, 66,\n",
       "        68, 69, 71, 74, 76, 80, 79, 81, 83, 88, 87, 89, 93, 94, 96, 98]),\n",
       " array([ 1,  4,  8,  9,  5, 10, 14, 17, 19, 18, 23, 27, 26, 24, 28, 33, 34,\n",
       "        37, 35, 42, 39, 45, 43, 47, 49, 52, 56, 55, 57, 60, 63, 61, 67, 65,\n",
       "        72, 70, 73, 75, 77, 78, 82, 85, 84, 86, 91, 90, 95, 92, 97, 99]))"
      ]
     },
     "execution_count": 35,
     "metadata": {},
     "output_type": "execute_result"
    }
   ],
   "source": [
    "localpairs(100, 2)"
   ]
  },
  {
   "cell_type": "code",
   "execution_count": 36,
   "id": "9020ecee",
   "metadata": {},
   "outputs": [
    {
     "name": "stdout",
     "output_type": "stream",
     "text": [
      "Correct!\n"
     ]
    },
    {
     "data": {
      "text/plain": [
       "True"
      ]
     },
     "execution_count": 36,
     "metadata": {},
     "output_type": "execute_result"
    }
   ],
   "source": [
    "#test localpairs\n",
    "q = GRADER1b.fetch_question('q9')\n",
    "m1,m2 = localpairs(q.n, q.σ)\n",
    "ans = {'n': len(np.unique(np.concatenate([m1,m2]))), 's': np.std(np.abs(m1-m2))}\n",
    "GRADER1b.submit_answer(q, ans)"
   ]
  },
  {
   "cell_type": "markdown",
   "id": "30e1def0",
   "metadata": {},
   "source": [
    "# question 10"
   ]
  },
  {
   "cell_type": "code",
   "execution_count": 37,
   "id": "64657190",
   "metadata": {},
   "outputs": [],
   "source": [
    "def update_with_localpairs(popn, prob, σ):\n",
    "    popn = np.array(popn, dtype = int)\n",
    "    new_popn = np.copy(popn)\n",
    "    \n",
    "    social = np.random.binomial(n = 1, p = prob['socialize'], size = len(popn)).astype(bool)\n",
    "    social_num = np.sum(social)\n",
    "    #find index of those socialized and pair them\n",
    "    m1, m2 = localpairs(social_num, σ)\n",
    "    p1 = np.arange(len(popn))[social][m1] \n",
    "    p2 = np.arange(len(popn))[social][m2]\n",
    "    \n",
    "    expose = is_exposed(popn, p1, p2)\n",
    "    \n",
    "    #for susceptible population\n",
    "    exposed_sus_index = np.arange(len(popn))[expose & (popn == 0)]\n",
    "    sus_infected = np.random.binomial(n = 1, p = prob['infect_susceptible'], size = len(exposed_sus_index)).astype(bool)\n",
    "    new_popn[exposed_sus_index[sus_infected]] = 2\n",
    "    \n",
    "    #for protected population\n",
    "    exposed_pro_index = np.arange(len(popn))[expose & (popn == 1)] \n",
    "    pro_infected = np.random.binomial(n = 1, p = prob['infect_protected'], size = len(exposed_pro_index)).astype(bool)\n",
    "    new_popn[exposed_pro_index[pro_infected]] = 2\n",
    "    \n",
    "    new_infected = np.sum(sus_infected) + np.sum(pro_infected)\n",
    "    \n",
    "    #for infected population\n",
    "    infected_index = np.arange(len(popn))[popn == 2]\n",
    "    inf_recovered = np.random.binomial(n = 1, p = prob['recover'], size = len(infected_index)).astype(bool)\n",
    "    new_popn[infected_index[inf_recovered]] = 1\n",
    "    \n",
    "    return new_popn, new_infected"
   ]
  },
  {
   "cell_type": "code",
   "execution_count": 47,
   "id": "b7dce16b",
   "metadata": {},
   "outputs": [],
   "source": [
    "def sim_with_locality(N, T, i0, p0, prob, σ):\n",
    "    popn = np.zeros(N, dtype = int)\n",
    "    #randomly allocate infected and protected population\n",
    "    '''\n",
    "    inf_index = np.random.choice(N, i0)\n",
    "    pro_index = np.random.choice(N, p0)\n",
    "    popn[inf_index] = 2\n",
    "    popn[pro_index] = 1\n",
    "    '''\n",
    "    spec_index = np.random.choice(N, i0 + p0)\n",
    "    pro_index = np.random.choice(i0 + p0, p0)\n",
    "    popn[spec_index[pro_index]] = 1\n",
    "    popn[spec_index[~pro_index]] = 2\n",
    "    ans = np.zeros(shape = (T, 4), dtype = int)\n",
    "    for i in range(T):\n",
    "        popn, new_infected = update_with_localpairs(popn, prob, σ)\n",
    "        update_sus = np.sum(popn == 0)\n",
    "        update_pro = np.sum(popn == 1)\n",
    "        update_inj = np.sum(popn == 2) \n",
    "        ans[i] = ([update_sus, update_pro, update_inj, new_infected])\n",
    "    return ans, popn"
   ]
  },
  {
   "cell_type": "code",
   "execution_count": 45,
   "id": "920cddea",
   "metadata": {},
   "outputs": [],
   "source": [
    "def sim_repeat_plot_local(N, T, i0, p0, delta):\n",
    "    prob = {'socialize': 0.8, 'infect_susceptible': 0.6, 'infect_protected': 0.1, 'recover': 0.1}\n",
    "    fig, ax = plt.subplots(1, 1)\n",
    "    c = ['red', 'grey', 'orange']\n",
    "    l = ['σ = 5', 'σ = 20', 'σ = 100']\n",
    "    for i in range(len(delta)):\n",
    "        for j in range(5):\n",
    "            matrix = sim_with_locality(N, T, i0, p0, prob, delta[i])\n",
    "            inj_num = matrix[:,2]\n",
    "            if j == 0:\n",
    "                ax.plot(np.arange(200), inj_num / 500, color = c[i], label = l[i])\n",
    "            else:\n",
    "                ax.plot(np.arange(200), inj_num / 500, color = c[i])\n",
    "    ax.legend()\n",
    "    ax.set_ylabel('%popn infected')\n",
    "    plt.show()"
   ]
  },
  {
   "cell_type": "code",
   "execution_count": 46,
   "id": "b23e678f",
   "metadata": {},
   "outputs": [
    {
     "data": {
      "image/png": "[encoded data removed]",
      "text/plain": [
       "<Figure size 432x288 with 1 Axes>"
      ]
     },
     "metadata": {
      "needs_background": "light"
     },
     "output_type": "display_data"
    }
   ],
   "source": [
    "#test question 10\n",
    "sim_repeat_plot_local(50000, 200, 100, 0, [5, 20, 100])"
   ]
  },
  {
   "cell_type": "markdown",
   "id": "48040a05",
   "metadata": {},
   "source": [
    "# question11"
   ]
  },
  {
   "cell_type": "code",
   "execution_count": 43,
   "id": "0c3b2bd0",
   "metadata": {},
   "outputs": [
    {
     "name": "stdout",
     "output_type": "stream",
     "text": [
      "Correct!\n"
     ]
    },
    {
     "data": {
      "text/plain": [
       "True"
      ]
     },
     "execution_count": 43,
     "metadata": {},
     "output_type": "execute_result"
    }
   ],
   "source": [
    "q = GRADER1b.fetch_question('q11')\n",
    "x = sim_with_locality(N=q.N, T=q.t1, i0=q.i0, p0=q.p0, prob=q.prob, σ=q.σ)\n",
    "ans = r(x, t0=q.t0, t1=q.t1, days=1/q.prob['recover'])\n",
    "GRADER1b.submit_answer(q, ans)"
   ]
  }
 ],
 "metadata": {
  "kernelspec": {
   "display_name": "python3.9",
   "language": "python",
   "name": "python3.9"
  },
  "language_info": {
   "codemirror_mode": {
    "name": "ipython",
    "version": 3
   },
   "file_extension": ".py",
   "mimetype": "text/x-python",
   "name": "python",
   "nbconvert_exporter": "python",
   "pygments_lexer": "ipython3",
   "version": "3.9.9"
  }
 },
 "nbformat": 4,
 "nbformat_minor": 5
}
